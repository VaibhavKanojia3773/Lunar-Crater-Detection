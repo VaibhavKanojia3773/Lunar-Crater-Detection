{
 "cells": [
  {
   "cell_type": "code",
   "execution_count": null,
   "id": "380e5188",
   "metadata": {
    "_cell_guid": "b1076dfc-b9ad-4769-8c92-a6c4dae69d19",
    "_uuid": "8f2839f25d086af736a60e9eeb907d3b93b6e0e5",
    "execution": {
     "iopub.execute_input": "2024-07-24T14:28:12.377521Z",
     "iopub.status.busy": "2024-07-24T14:28:12.377046Z",
     "iopub.status.idle": "2024-07-24T14:28:29.919029Z",
     "shell.execute_reply": "2024-07-24T14:28:29.917435Z"
    },
    "papermill": {
     "duration": 17.552255,
     "end_time": "2024-07-24T14:28:29.922868",
     "exception": false,
     "start_time": "2024-07-24T14:28:12.370613",
     "status": "completed"
    },
    "tags": []
   },
   "outputs": [],
   "source": [
    "import tensorflow as tf\n",
    "from tensorflow.keras.preprocessing.image import ImageDataGenerator\n",
    "from tensorflow.keras.models import Sequential\n",
    "from tensorflow.keras.layers import Conv2D, MaxPooling2D, Flatten, Dense, Dropout\n",
    "import cv2\n",
    "import numpy as np\n",
    "import matplotlib.pyplot as plt\n",
    "import os\n",
    "\n",
    "train_dir = '/kaggle/input/martianlunar-crater-detection-dataset/craters/train'\n",
    "validation_dir = '/kaggle/input/martianlunar-crater-detection-dataset/craters/valid'\n",
    "\n"
   ]
  },
  {
   "cell_type": "code",
   "execution_count": null,
   "id": "2695fe23",
   "metadata": {
    "execution": {
     "iopub.execute_input": "2024-07-24T14:28:29.934742Z",
     "iopub.status.busy": "2024-07-24T14:28:29.933776Z",
     "iopub.status.idle": "2024-07-24T14:28:30.002150Z",
     "shell.execute_reply": "2024-07-24T14:28:29.999331Z"
    },
    "papermill": {
     "duration": 0.083794,
     "end_time": "2024-07-24T14:28:30.011350",
     "exception": false,
     "start_time": "2024-07-24T14:28:29.927556",
     "status": "completed"
    },
    "tags": []
   },
   "outputs": [],
   "source": [
    "\n",
    "\n",
    "\n",
    "train_datagen = ImageDataGenerator(rescale=1./255)\n",
    "validation_datagen = ImageDataGenerator(rescale=1./255)\n",
    "\n",
    "train_generator = train_datagen.flow_from_directory(\n",
    "    train_dir,\n",
    "    target_size=(150, 150),\n",
    "    batch_size=20,\n",
    "    class_mode='binary'\n",
    ")\n",
    "\n",
    "validation_generator = validation_datagen.flow_from_directory(\n",
    "    validation_dir,\n",
    "    target_size=(150, 150),\n",
    "    batch_size=20,\n",
    "    class_mode='binary'\n",
    ")\n"
   ]
  },
  {
   "cell_type": "code",
   "execution_count": null,
   "id": "6c649622",
   "metadata": {
    "execution": {
     "iopub.execute_input": "2024-07-24T14:28:30.025483Z",
     "iopub.status.busy": "2024-07-24T14:28:30.024227Z",
     "iopub.status.idle": "2024-07-24T14:28:30.425179Z",
     "shell.execute_reply": "2024-07-24T14:28:30.423923Z"
    },
    "papermill": {
     "duration": 0.412101,
     "end_time": "2024-07-24T14:28:30.428748",
     "exception": false,
     "start_time": "2024-07-24T14:28:30.016647",
     "status": "completed"
    },
    "tags": []
   },
   "outputs": [],
   "source": [
    "\n",
    "model = Sequential([\n",
    "    Conv2D(32, (3, 3), activation='relu', input_shape=(150, 150, 3)),\n",
    "    MaxPooling2D(2, 2),\n",
    "    Conv2D(64, (3, 3), activation='relu'),\n",
    "    MaxPooling2D(2, 2),\n",
    "    Conv2D(128, (3, 3), activation='relu'),\n",
    "    MaxPooling2D(2, 2),\n",
    "    Flatten(),\n",
    "    Dense(512, activation='relu'),\n",
    "    Dropout(0.5),\n",
    "    Dense(1, activation='sigmoid')\n",
    "])\n",
    "\n",
    "model.compile(loss='binary_crossentropy',\n",
    "              optimizer='adam',\n",
    "              metrics=['accuracy'])\n",
    "\n",
    "model.summary()"
   ]
  },
  {
   "cell_type": "code",
   "execution_count": null,
   "id": "7daf3b78",
   "metadata": {
    "execution": {
     "iopub.execute_input": "2024-07-24T14:28:30.443473Z",
     "iopub.status.busy": "2024-07-24T14:28:30.442099Z",
     "iopub.status.idle": "2024-07-24T14:30:06.847741Z",
     "shell.execute_reply": "2024-07-24T14:30:06.846398Z"
    },
    "papermill": {
     "duration": 96.415509,
     "end_time": "2024-07-24T14:30:06.850758",
     "exception": false,
     "start_time": "2024-07-24T14:28:30.435249",
     "status": "completed"
    },
    "tags": []
   },
   "outputs": [],
   "source": [
    "\n",
    "history = model.fit(\n",
    "    train_generator,\n",
    "    steps_per_epoch=10,\n",
    "    epochs=20,\n",
    "    validation_data=validation_generator,\n",
    "    validation_steps=50\n",
    ")"
   ]
  },
  {
   "cell_type": "code",
   "execution_count": null,
   "id": "c5b1afa1",
   "metadata": {
    "execution": {
     "iopub.execute_input": "2024-07-24T14:30:06.891314Z",
     "iopub.status.busy": "2024-07-24T14:30:06.890781Z",
     "iopub.status.idle": "2024-07-24T14:30:08.246884Z",
     "shell.execute_reply": "2024-07-24T14:30:08.245268Z"
    },
    "papermill": {
     "duration": 1.380151,
     "end_time": "2024-07-24T14:30:08.250269",
     "exception": false,
     "start_time": "2024-07-24T14:30:06.870118",
     "status": "completed"
    },
    "tags": []
   },
   "outputs": [],
   "source": [
    "\n",
    "loss, accuracy = model.evaluate(validation_generator)\n",
    "print(f'Validation accuracy: {accuracy*100:.2f}%')\n",
    "\n",
    "\n",
    "model.save('crater_detection_model.h5')"
   ]
  },
  {
   "cell_type": "code",
   "execution_count": 6,
   "id": "3a03f08f",
   "metadata": {
    "execution": {
     "iopub.execute_input": "2024-07-24T14:30:08.293928Z",
     "iopub.status.busy": "2024-07-24T14:30:08.293467Z",
     "iopub.status.idle": "2024-07-24T14:30:08.306861Z",
     "shell.execute_reply": "2024-07-24T14:30:08.305443Z"
    },
    "papermill": {
     "duration": 0.040113,
     "end_time": "2024-07-24T14:30:08.310093",
     "exception": false,
     "start_time": "2024-07-24T14:30:08.269980",
     "status": "completed"
    },
    "tags": []
   },
   "outputs": [],
   "source": [
    "def preprocess_image(image_path):\n",
    "    img = cv2.imread(image_path)\n",
    "    gray = cv2.cvtColor(img, cv2.COLOR_BGR2GRAY)\n",
    "    blurred = cv2.GaussianBlur(gray, (5, 5), 0)\n",
    "    edges = cv2.Canny(blurred, 50, 150)\n",
    "    return img, edges\n",
    "\n",
    "def detect_craters(edges):\n",
    "    contours, _ = cv2.findContours(edges, cv2.RETR_EXTERNAL, cv2.CHAIN_APPROX_SIMPLE)\n",
    "    return contours\n",
    "\n",
    "def analyze_craters(img, contours):\n",
    "    crater_info = []\n",
    "    for contour in contours:\n",
    "        x, y, w, h = cv2.boundingRect(contour)\n",
    "        cv2.rectangle(img, (x, y), (x + w, y + h), (0, 255, 0), 2)\n",
    "        diameter = (w + h) / 2\n",
    "        aspect_ratio = w / float(h)\n",
    "        crater_info.append({\n",
    "            'Bounding Box': (x, y, w, h),\n",
    "            'Diameter': diameter,\n",
    "            'Aspect Ratio': aspect_ratio\n",
    "        })\n",
    "        \n",
    "        cv2.putText(img, f'D:{diameter:.1f}', (x, y - 10), cv2.FONT_HERSHEY_SIMPLEX, 0.5, (255, 0, 0), 2)\n",
    "        cv2.putText(img, f'AR:{aspect_ratio:.2f}', (x, y + h + 20), cv2.FONT_HERSHEY_SIMPLEX, 0.5, (255, 0, 0), 2)\n",
    "    return img, crater_info\n"
   ]
  },
  {
   "cell_type": "code",
   "execution_count": 7,
   "id": "d9f38f21",
   "metadata": {
    "execution": {
     "iopub.execute_input": "2024-07-24T14:30:08.353481Z",
     "iopub.status.busy": "2024-07-24T14:30:08.352101Z",
     "iopub.status.idle": "2024-07-24T14:30:08.361367Z",
     "shell.execute_reply": "2024-07-24T14:30:08.360043Z"
    },
    "papermill": {
     "duration": 0.033469,
     "end_time": "2024-07-24T14:30:08.364210",
     "exception": false,
     "start_time": "2024-07-24T14:30:08.330741",
     "status": "completed"
    },
    "tags": []
   },
   "outputs": [],
   "source": [
    "def display_results(img, crater_info):\n",
    "    plt.figure(figsize=(10, 10))\n",
    "    plt.imshow(cv2.cvtColor(img, cv2.COLOR_BGR2RGB))\n",
    "    plt.title('Detected Craters')\n",
    "    plt.axis('off')\n",
    "    plt.show()\n",
    "    \n",
    "    for i, info in enumerate(crater_info):\n",
    "        print(f\"Crater {i + 1}:\")\n",
    "        print(f\"  Bounding Box: {info['Bounding Box']}\")\n",
    "        print(f\"  Diameter: {info['Diameter']} pixels\")\n",
    "        print(f\"  Aspect Ratio: {info['Aspect Ratio']:.2f}\")"
   ]
  },
  {
   "cell_type": "code",
   "execution_count": null,
   "id": "cecabdeb",
   "metadata": {
    "execution": {
     "iopub.execute_input": "2024-07-24T14:30:08.406658Z",
     "iopub.status.busy": "2024-07-24T14:30:08.406230Z",
     "iopub.status.idle": "2024-07-24T14:30:25.102250Z",
     "shell.execute_reply": "2024-07-24T14:30:25.100870Z"
    },
    "papermill": {
     "duration": 16.723519,
     "end_time": "2024-07-24T14:30:25.107767",
     "exception": false,
     "start_time": "2024-07-24T14:30:08.384248",
     "status": "completed"
    },
    "tags": []
   },
   "outputs": [],
   "source": [
    "\n",
    "def process_dataset(directory):\n",
    "    for root, _, files in os.walk(directory):\n",
    "        for filename in files:\n",
    "            if filename.endswith(\".jpg\") or filename.endswith(\".png\"):\n",
    "                image_path = os.path.join(root, filename)\n",
    "                img, edges = preprocess_image(image_path)\n",
    "                contours = detect_craters(edges)\n",
    "                img_with_craters, crater_info = analyze_craters(img, contours)\n",
    "                display_results(img_with_craters, crater_info)\n",
    "\n",
    "\n",
    "process_dataset(validation_dir)"
   ]
  }
 ],
 "metadata": {
  "kaggle": {
   "accelerator": "none",
   "dataSources": [
    {
     "datasetId": 1933389,
     "sourceId": 3185724,
     "sourceType": "datasetVersion"
    }
   ],
   "dockerImageVersionId": 30746,
   "isGpuEnabled": false,
   "isInternetEnabled": true,
   "language": "python",
   "sourceType": "notebook"
  },
  "kernelspec": {
   "display_name": "Python 3",
   "language": "python",
   "name": "python3"
  },
  "language_info": {
   "codemirror_mode": {
    "name": "ipython",
    "version": 3
   },
   "file_extension": ".py",
   "mimetype": "text/x-python",
   "name": "python",
   "nbconvert_exporter": "python",
   "pygments_lexer": "ipython3",
   "version": "3.10.13"
  },
  "papermill": {
   "default_parameters": {},
   "duration": 139.472708,
   "end_time": "2024-07-24T14:30:28.387770",
   "environment_variables": {},
   "exception": null,
   "input_path": "__notebook__.ipynb",
   "output_path": "__notebook__.ipynb",
   "parameters": {},
   "start_time": "2024-07-24T14:28:08.915062",
   "version": "2.5.0"
  }
 },
 "nbformat": 4,
 "nbformat_minor": 5
}
